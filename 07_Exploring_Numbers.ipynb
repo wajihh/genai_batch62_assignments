{
  "nbformat": 4,
  "nbformat_minor": 0,
  "metadata": {
    "colab": {
      "provenance": [],
      "authorship_tag": "ABX9TyOoqKo91omr9UH1Yj4Qdr8w",
      "include_colab_link": true
    },
    "kernelspec": {
      "name": "python3",
      "display_name": "Python 3"
    },
    "language_info": {
      "name": "python"
    }
  },
  "cells": [
    {
      "cell_type": "markdown",
      "metadata": {
        "id": "view-in-github",
        "colab_type": "text"
      },
      "source": [
        "<a href=\"https://colab.research.google.com/github/wajihh/genai_batch62_assignments/blob/main/07_Exploring_Numbers.ipynb\" target=\"_parent\"><img src=\"https://colab.research.google.com/assets/colab-badge.svg\" alt=\"Open In Colab\"/></a>"
      ]
    },
    {
      "cell_type": "markdown",
      "source": [
        "## GenAI Quarter 1 Assignment 7 Development of  a Number Exporation Tool"
      ],
      "metadata": {
        "id": "ZZMIJcqqP16-"
      }
    },
    {
      "cell_type": "code",
      "execution_count": 1,
      "metadata": {
        "colab": {
          "base_uri": "https://localhost:8080/"
        },
        "id": "y4_Sg6gvPfxp",
        "outputId": "0d75f4b5-c0bc-4b5c-be14-e5afec1109e6"
      },
      "outputs": [
        {
          "output_type": "stream",
          "name": "stdout",
          "text": [
            "Please enter your name: Wajih\n",
            "Assalam o Alikum Wajih, how are you?\n"
          ]
        }
      ],
      "source": [
        "# Assignment 7 Interactive Tool for Exploring Numbers\n",
        "# Step 1: User Interaction\n",
        "# Run and Input name and numbers through terminal\n",
        "name = input(\"Please enter your name: \")\n",
        "print(f\"Assalam o Alikum {name}, how are you?\")"
      ]
    },
    {
      "cell_type": "code",
      "source": [
        "# Step 2: Collect Favorite Numbers\n",
        "numbers = []\n",
        "for i in range(3):\n",
        "    number = int(input(f\"Enter your favorite number {i+1}: \"))\n",
        "    numbers.append(number)\n",
        "\n",
        "# Display the collected numbers\n",
        "print(f\"\\nYour favorite numbers are: {numbers}\")"
      ],
      "metadata": {
        "colab": {
          "base_uri": "https://localhost:8080/"
        },
        "id": "O44Nni1bQLKn",
        "outputId": "866d2726-07e2-49f4-a6b7-6573dcd36a9d"
      },
      "execution_count": 2,
      "outputs": [
        {
          "output_type": "stream",
          "name": "stdout",
          "text": [
            "Enter your favorite number 1: 20\n",
            "Enter your favorite number 2: 33\n",
            "Enter your favorite number 3: 64\n",
            "\n",
            "Your favorite numbers are: [20, 33, 64]\n"
          ]
        }
      ]
    },
    {
      "cell_type": "code",
      "source": [
        "# Step 4: Create Number-Square Tuples\n",
        "number_square_list = []\n",
        "for number in numbers:\n",
        "    number_square_list.append((number, number ** 2))\n",
        "\n",
        "# Display the number and its square\n",
        "print(\"\\nNumber and its Square:\")\n",
        "for num, square in number_square_list:\n",
        "    print(f\"The square of {num} is {square}\")\n"
      ],
      "metadata": {
        "colab": {
          "base_uri": "https://localhost:8080/"
        },
        "id": "Ak0jgvjjRP-c",
        "outputId": "5adbba42-2c82-4145-ad81-f6f0939c99e8"
      },
      "execution_count": 6,
      "outputs": [
        {
          "output_type": "stream",
          "name": "stdout",
          "text": [
            "\n",
            "Number and its Square:\n",
            "The square of 20 is 400\n",
            "The square of 33 is 1089\n",
            "The square of 64 is 4096\n"
          ]
        }
      ]
    },
    {
      "cell_type": "code",
      "source": [
        "# Step 5: Calculate Sum\n",
        "sum_of_numbers = sum(numbers)\n",
        "print(f\"\\nThe sum of your favorite numbers is: {sum_of_numbers}. You did a great job!\")"
      ],
      "metadata": {
        "colab": {
          "base_uri": "https://localhost:8080/"
        },
        "id": "n__Bv1meRUg4",
        "outputId": "4a901c93-0fe1-47bf-a8c9-aad84bcb682b"
      },
      "execution_count": 7,
      "outputs": [
        {
          "output_type": "stream",
          "name": "stdout",
          "text": [
            "\n",
            "The sum of your favorite numbers is: 117. You did a great job!\n"
          ]
        }
      ]
    },
    {
      "cell_type": "code",
      "source": [
        "# Step 6: Prime Number Check\n",
        "def is_prime(n):\n",
        "    if n <= 1:\n",
        "        return False\n",
        "    for i in range(2, int(n**0.5) + 1):\n",
        "        if n % i == 0:\n",
        "            return False\n",
        "    return True\n",
        "\n",
        "if is_prime(sum_of_numbers):\n",
        "    print(f\"Wow! The sum {sum_of_numbers} is a prime number!\")\n",
        "else:\n",
        "    print(f\"The sum {sum_of_numbers} is not a prime number.\")"
      ],
      "metadata": {
        "colab": {
          "base_uri": "https://localhost:8080/"
        },
        "id": "DVzZNdk1Redj",
        "outputId": "08bfffe0-ab98-4223-984b-f4838394daa2"
      },
      "execution_count": 8,
      "outputs": [
        {
          "output_type": "stream",
          "name": "stdout",
          "text": [
            "The sum 117 is not a prime number.\n"
          ]
        }
      ]
    },
    {
      "cell_type": "markdown",
      "source": [
        "Conlusion\n",
        "Assignment successfully done!"
      ],
      "metadata": {
        "id": "CSPHvd3WRzHi"
      }
    }
  ]
}