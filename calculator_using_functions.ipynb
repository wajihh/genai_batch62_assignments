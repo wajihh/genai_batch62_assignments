{
  "nbformat": 4,
  "nbformat_minor": 0,
  "metadata": {
    "colab": {
      "provenance": [],
      "authorship_tag": "ABX9TyPF1knNH0SHkve/lWP4X+2R",
      "include_colab_link": true
    },
    "kernelspec": {
      "name": "python3",
      "display_name": "Python 3"
    },
    "language_info": {
      "name": "python"
    }
  },
  "cells": [
    {
      "cell_type": "markdown",
      "metadata": {
        "id": "view-in-github",
        "colab_type": "text"
      },
      "source": [
        "<a href=\"https://colab.research.google.com/github/wajihh/genai_batch62_assignments/blob/main/calculator_using_functions.ipynb\" target=\"_parent\"><img src=\"https://colab.research.google.com/assets/colab-badge.svg\" alt=\"Open In Colab\"/></a>"
      ]
    },
    {
      "cell_type": "markdown",
      "source": [],
      "metadata": {
        "id": "tG_cn7A78Db2"
      }
    },
    {
      "cell_type": "markdown",
      "source": [
        "#Python script for a calculator using functions.\n",
        "Created separate functions for addition, subtraction, multiplication, and division functions taking input as parameters and returning the result of the operation performed. Validated division by zero.Used input from the user to select an operation and numbers.\n"
      ],
      "metadata": {
        "id": "u48Gxqhl8FsJ"
      }
    },
    {
      "cell_type": "code",
      "source": [
        "def add(x, y):\n",
        "  \"\"\"Adds two numbers together.\"\"\"\n",
        "  return x + y\n",
        "\n",
        "def subtract(x, y):\n",
        "  \"\"\"Subtracts two numbers.\"\"\"\n",
        "  return x - y\n",
        "\n",
        "def multiply(x, y):\n",
        "  \"\"\"Multiplies two numbers.\"\"\"\n",
        "  return x * y\n",
        "\n",
        "def divide(x, y):\n",
        "  \"\"\"Divides two numbers. Handles division by zero.\"\"\"\n",
        "  if y == 0:\n",
        "    return \"Division by zero error!\"\n",
        "  return x / y\n",
        "\n",
        "while True:\n",
        "  print(\"Select operation:\")\n",
        "  print(\"1. Add\")\n",
        "  print(\"2. Subtract\")\n",
        "  print(\"3. Multiply\")\n",
        "  print(\"4. Divide\")\n",
        "  print(\"5. Exit\")\n",
        "\n",
        "  choice = input(\"Enter choice(1/2/3/4/5): \")\n",
        "\n",
        "  if choice in ('1', '2', '3', '4'):\n",
        "    try:\n",
        "      num1 = float(input(\"Enter first number: \"))\n",
        "      num2 = float(input(\"Enter second number: \"))\n",
        "    except ValueError:\n",
        "      print(\"Invalid input. Please enter numbers only.\")\n",
        "      continue\n",
        "\n",
        "    if choice == '1':\n",
        "      print(num1, \"+\", num2, \"=\", add(num1, num2))\n",
        "\n",
        "    elif choice == '2':\n",
        "      print(num1, \"-\", num2, \"=\", subtract(num1, num2))\n",
        "\n",
        "    elif choice == '3':\n",
        "      print(num1, \"*\", num2, \"=\", multiply(num1, num2))\n",
        "\n",
        "    elif choice == '4':\n",
        "      print(num1, \"/\", num2, \"=\", divide(num1, num2))\n",
        "\n",
        "  elif choice == '5':\n",
        "    break\n",
        "  else:\n",
        "    print(\"Invalid Input\")"
      ],
      "metadata": {
        "colab": {
          "base_uri": "https://localhost:8080/"
        },
        "id": "cTft5Rm48rV5",
        "outputId": "92c89284-2b7b-427b-b522-3f2d33aa1472"
      },
      "execution_count": null,
      "outputs": [
        {
          "output_type": "stream",
          "name": "stdout",
          "text": [
            "Select operation:\n",
            "1. Add\n",
            "2. Subtract\n",
            "3. Multiply\n",
            "4. Divide\n",
            "5. Exit\n",
            "Enter choice(1/2/3/4/5): 4\n",
            "Enter first number: 20\n",
            "Enter second number: 20\n",
            "20.0 / 20.0 = 1.0\n",
            "Select operation:\n",
            "1. Add\n",
            "2. Subtract\n",
            "3. Multiply\n",
            "4. Divide\n",
            "5. Exit\n",
            "Enter choice(1/2/3/4/5): 2\n",
            "Enter first number: 10\n",
            "Enter second number: 20\n",
            "10.0 - 20.0 = -10.0\n",
            "Select operation:\n",
            "1. Add\n",
            "2. Subtract\n",
            "3. Multiply\n",
            "4. Divide\n",
            "5. Exit\n"
          ]
        }
      ]
    }
  ]
}